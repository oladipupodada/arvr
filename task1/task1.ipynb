import cv2 as cv
image_path = 'images/sample1.jpg'

try:
    image = cv.imread(image_path)   # loads the image 
    image_grey = cv.cvtColor(image, cv.COLOR_BGR2GRAY) #converting into grey 

    cv.imshow(winname='Original image', mat=image)  # shows original
    cv.imshow(winname='Greyscale image', mat=image_grey) # shows greyscale 
    cv.waitKey(0)
except:
    print('Error')
